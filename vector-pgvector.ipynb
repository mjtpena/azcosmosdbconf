{
 "cells": [
  {
   "cell_type": "code",
   "execution_count": 26,
   "metadata": {},
   "outputs": [
    {
     "name": "stdout",
     "output_type": "stream",
     "text": [
      "Requirement already satisfied: psycopg in /Users/mjtpena/anaconda3/lib/python3.11/site-packages (3.1.18)\n",
      "Requirement already satisfied: typing-extensions>=4.1 in /Users/mjtpena/anaconda3/lib/python3.11/site-packages (from psycopg) (4.10.0)\n",
      "Note: you may need to restart the kernel to use updated packages.\n"
     ]
    }
   ],
   "source": [
    "%pip install psycopg\n",
    "\n",
    "from urllib.parse import quote_plus\n",
    "import numpy as np\n",
    "from pgvector.psycopg import register_vector\n",
    "import psycopg\n",
    "\n",
    "# Database connection details\n",
    "username = \"citus\"\n",
    "password = quote_plus(\"password\")  # URL-encode the password\n",
    "host = \"c-postgrescluster-cosmosconf2024.pte3wsxf6htgv3.postgres.cosmos.azure.com\"\n",
    "port = \"5432\"\n",
    "dbname = \"citus\"\n",
    "DATABASE_URL = f\"postgresql://{username}:{password}@{host}:{port}/{dbname}?sslmode=require\""
   ]
  },
  {
   "cell_type": "code",
   "execution_count": 27,
   "metadata": {},
   "outputs": [
    {
     "name": "stdout",
     "output_type": "stream",
     "text": [
      "Loading 1000000 rows\n",
      "....................................................................................................\n",
      "Success!\n"
     ]
    }
   ],
   "source": [
    "# generate random data\n",
    "rows = 1000000\n",
    "dimensions = 128\n",
    "embeddings = np.random.rand(rows, dimensions)\n",
    "\n",
    "# enable extension\n",
    "conn = psycopg.connect(DATABASE_URL, autocommit=True)\n",
    "conn.execute('CREATE EXTENSION IF NOT EXISTS vector')\n",
    "register_vector(conn)\n",
    "\n",
    "# create table\n",
    "conn.execute('DROP TABLE IF EXISTS vector_documents')\n",
    "conn.execute(f'CREATE TABLE vector_documents (id bigserial, embedding vector({dimensions}))')\n",
    "\n",
    "# load data\n",
    "print(f'Loading {len(embeddings)} rows')\n",
    "cur = conn.cursor()\n",
    "with cur.copy('COPY vector_documents (embedding) FROM STDIN WITH (FORMAT BINARY)') as copy:\n",
    "    # use set_types for binary copy\n",
    "    # https://www.psycopg.org/psycopg3/docs/basic/copy.html#binary-copy\n",
    "    copy.set_types(['vector'])\n",
    "\n",
    "    for i, embedding in enumerate(embeddings):\n",
    "        # show progress\n",
    "        if i % 10000 == 0:\n",
    "            print('.', end='', flush=True)\n",
    "\n",
    "        copy.write_row([embedding])\n",
    "\n",
    "        # flush data\n",
    "        while conn.pgconn.flush() == 1:\n",
    "            pass\n",
    "\n",
    "print('\\nSuccess!')"
   ]
  },
  {
   "cell_type": "code",
   "execution_count": 28,
   "metadata": {},
   "outputs": [
    {
     "data": {
      "text/plain": [
       "<psycopg.Cursor [COMMAND_OK] [IDLE] (host=c-postgrescluster-cosmosconf2024.pte3wsxf6htgv3.postgres.cosmos.azure.com database=citus) at 0x16b3a4b40>"
      ]
     },
     "execution_count": 28,
     "metadata": {},
     "output_type": "execute_result"
    }
   ],
   "source": [
    "# create any indexes *after* loading initial data (skipping for this example)\n",
    "if False:\n",
    "    print('Creating index')\n",
    "    conn.execute(\"SET maintenance_work_mem = '8GB'\")\n",
    "    conn.execute('SET max_parallel_maintenance_workers = 7')\n",
    "    conn.execute('CREATE INDEX ON items USING hnsw (embedding vector_cosine_ops)')\n",
    "\n",
    "# update planner statistics for good measure\n",
    "conn.execute('ANALYZE vector_documents')"
   ]
  }
 ],
 "metadata": {
  "kernelspec": {
   "display_name": "base",
   "language": "python",
   "name": "python3"
  },
  "language_info": {
   "codemirror_mode": {
    "name": "ipython",
    "version": 3
   },
   "file_extension": ".py",
   "mimetype": "text/x-python",
   "name": "python",
   "nbconvert_exporter": "python",
   "pygments_lexer": "ipython3",
   "version": "3.11.5"
  }
 },
 "nbformat": 4,
 "nbformat_minor": 2
}
